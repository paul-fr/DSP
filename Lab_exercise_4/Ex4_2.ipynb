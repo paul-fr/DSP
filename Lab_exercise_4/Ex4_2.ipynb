{
 "cells": [
  {
   "cell_type": "markdown",
   "metadata": {},
   "source": [
    "# Exercise 2"
   ]
  },
  {
   "cell_type": "markdown",
   "metadata": {},
   "source": [
    "## a)\n",
    "\n",
    "Analoger Filter:\n",
    "\n",
    "\\begin{equation}\n",
    "H(s) = \\frac{1}{1 + \\frac{s}{\\omega_c}}\n",
    "\\end{equation}\n",
    "\n",
    "Bilineare transformation mit:\n",
    "\n",
    "\\begin{equation}\n",
    "s = 2f_s \\frac{z-1}{z+1}\n",
    "\\end{equation}\n",
    "\n",
    "Einsetzen ergibt:\n",
    "\\begin{equation}\n",
    "H_d(z) = \\frac{1}{1+ \\frac{2f_s}{\\omega_c} \\frac{z-1}{z+1}}\n",
    "\\\\\n",
    "=\\frac{1+z^{-1}}{(1+\\frac{2f_s}{\\omega_c}) + (1-\\frac{2f_s}{\\omega_c})z^{-1}}\n",
    "\\end{equation}"
   ]
  },
  {
   "cell_type": "markdown",
   "metadata": {},
   "source": [
    "## b)\n",
    "\n",
    "Analoger Tiefpassfilter kann geschrieben werden als:\n",
    "\n",
    "\\begin{equation}\n",
    "H(s) = \\frac{1}{1 + a_1\\frac{s}{\\omega_c} + b_1(\\frac{s}{\\omega_c})^2}\n",
    "\\end{equation}\n",
    "\n",
    "Unser gegebener Tiefpassfilter erster Ordung:\n",
    "\\begin{equation}\n",
    "H(s) = \\frac{1}{1 + \\frac{s}{\\omega_c}}\n",
    "\\end{equation}\n",
    "\n",
    "Normale Notation für die Transferfunktion von Analogen Filtern zweiter Ordnung:\n",
    "\n",
    "\\begin{equation}\n",
    "H(s) = \\frac{B_0s^2 + B_1s + B_2}{A_0s^2 + A_1s +A_2}\n",
    "\\end{equation}\n",
    "\n",
    "Durch den Vergleich der normalen Notation und unserem gegeben Filter ergibt sich:\n",
    "\n",
    "\\begin{equation}\n",
    "B_0 = 0,  B_1=0,  B_2=1,  A_0 = \\frac{b_1}{\\omega_c^2}=0,  A1 = \\frac{a_1}{\\omega_c} = \\frac{1}{\\omega_c},  A2 = 1\n",
    "\\end{equation}\n",
    "\n",
    "Nach der Substitution von $s = 2f_s \\frac{z-1}{z+1}$ wollen wir folgende Form erhalten:\n",
    "\n",
    "\\begin{equation}\n",
    "H(z) = \\frac{b_0 + b_1z^{-1} + b_2z^{-2}}{1 + a_1z^{-1} +a_2z^{-2}}\n",
    "\\end{equation}\n",
    "\n",
    "Rechenweg:\n",
    "\\begin{equation}\n",
    "\\frac{B_0(2f_s \\frac{z-1}{z+1})^2 + B_1(2f_s \\frac{z-1}{z+1}) + B_2}{A_0(2f_s \\frac{z-1}{z+1})^2 + A_1(2f_s \\frac{z-1}{z+1}) +A_2}\n",
    "\\\\\n",
    "= ... = \\frac{ \n",
    "\\frac{B_04f_s^2+B_12f_s+B_2}{A_04f_s^2+A_12f_s+A_2} + \\frac{-B_08f_s^2+2B_2}{A_04f_s^2+A_12f_s+A_2}z^{-1} + \\frac{B_04f_s^2-B_12f_s+B_2}{A_04f_s^2+A_12f_s+A_2}z^{-2} } {\n",
    "1+\n",
    "\\frac{-A_08f_s^2+2A_2}{A_04f_s^2+A_12f_s+A_2}z^{-1}\n",
    "\\frac{A_04f_s^2-A_12f_s+A_2}{A_04f_s^2+A_12f_s+A_2}z^{-2}}\n",
    "\\end{equation}\n",
    "\n",
    "\n",
    "Die Koeffizienten des digitalen Filters sind daher:\n",
    "\n",
    "\\begin{equation}\n",
    "b_0 = \\frac{B2+2B_1f_s + 4B_0f_s^2}{A_2 + 2A_1f_s + 4A_0f_s^2}\n",
    "=\\frac{1}{1+\\frac{2f_s}{\\omega_c}}\n",
    "\\\\\n",
    "b_1 = \\frac{2B2 - 8B_0f_s^2}{A_2 + 2A_1f_s + 4A_0f_s^2}\n",
    "=\\frac{2}{1+\\frac{2f_s}{\\omega_c}}\n",
    "\\\\\n",
    "b_2 = \\frac{B2+2B_1f_s - 4B_0f_s^2}{A_2 + 2A_1f_s + 4A_0f_s^2}\n",
    "=\\frac{1}{1+\\frac{2f_s}{\\omega_c}}\n",
    "\\\\\n",
    "a_1 = \\frac{2A_2 - 8A_0f_s^2}{A_2 + 2A_1f_s + 4A_0f_s^2}\n",
    "=\\frac{2}{1+\\frac{2f_s}{\\omega_c}}\n",
    "\\\\\n",
    "a_2 = \\frac{A2-2A_1f_s + 4A_0f_s^2}{A_2 + 2A_1f_s + 4A_0f_s^2}\n",
    "=\\frac{1- \\frac{2f_s}{\\omega_c}}{1+\\frac{2f_s}{\\omega_c}}\n",
    "\\end{equation}"
   ]
  },
  {
   "cell_type": "markdown",
   "metadata": {},
   "source": [
    "## c), d), e)"
   ]
  },
  {
   "cell_type": "markdown",
   "metadata": {},
   "source": [
    "c) calculate the coefficients"
   ]
  },
  {
   "cell_type": "code",
   "execution_count": 148,
   "metadata": {},
   "outputs": [
    {
     "name": "stdout",
     "output_type": "stream",
     "text": [
      "Coefficients of the digital filter in biquad structure:\n",
      "\n",
      "a =  [1, 0.7911744635176464, -0.20882553648235358]\n",
      "b =  [0.3955872317588232, 0.7911744635176464, 0.3955872317588232]\n",
      "\n",
      "Coefficients of the digital filter in biquad structure with pre-wrapping:\n",
      "\n",
      "a =  [1, 0.8683475024126042, -0.13165249758739586]\n",
      "b =  [0.4341737512063021, 0.8683475024126042, 0.4341737512063021]\n"
     ]
    }
   ],
   "source": [
    "import numpy as np\n",
    "import matplotlib.pyplot as plt\n",
    "import scipy.signal as sig\n",
    "\n",
    "fs = 48000 #Hz\n",
    "fc = 10000 #Hz\n",
    "\n",
    "omc = 2*np.pi*fc\n",
    "omc_wrapped = 2*fs *np.tan(np.pi * fc / fs)\n",
    "\n",
    "#Coefficients without pre-wrapping:\n",
    "b0 = 1 / ( 1 + 2 *fs / omc)\n",
    "b1 = 2 / ( 1 + 2 *fs / omc)\n",
    "b2 = 1 / ( 1 + 2 *fs / omc)\n",
    "b = [b0, b1, b2]\n",
    "\n",
    "a1 = 2 / ( 1 + 2 *fs / omc)\n",
    "a2 = (1 - 2 * fs / omc) / ( 1 + 2 *fs / omc)\n",
    "a = ([1, a1, a2])\n",
    "#a = [1, a1, a0]\n",
    "\n",
    "#Coefficients with pre-wrapping\n",
    "b0_w = 1 / ( 1 + 2 *fs / omc_wrapped)\n",
    "b1_w = 2 / ( 1 + 2 *fs / omc_wrapped)\n",
    "b2_w = 1 / ( 1 + 2 *fs / omc_wrapped)\n",
    "b_wrapped = [b0_w, b1_w, b2_w]\n",
    "\n",
    "a1_w = 2 / ( 1 + 2 *fs / omc_wrapped)\n",
    "a2_w = (1 - 2 * fs / omc_wrapped) / ( 1 + 2 *fs / omc_wrapped)\n",
    "a_wrapped = [1, a1_w, a2_w]\n",
    "\n",
    "print(\"Coefficients of the digital filter in biquad structure:\\n\")\n",
    "print(\"a = \", a)\n",
    "print(\"b = \",b)\n",
    "\n",
    "\n",
    "print(\"\\nCoefficients of the digital filter in biquad structure with pre-wrapping:\\n\")\n",
    "print(\"a = \",a_wrapped)\n",
    "print(\"b = \",b_wrapped)"
   ]
  },
  {
   "cell_type": "markdown",
   "metadata": {},
   "source": [
    "b) visualise magnitude transfer function"
   ]
  },
  {
   "cell_type": "code",
   "execution_count": 149,
   "metadata": {},
   "outputs": [
    {
     "data": {
      "text/plain": [
       "<matplotlib.legend.Legend at 0x7f2f47ed2a20>"
      ]
     },
     "execution_count": 149,
     "metadata": {},
     "output_type": "execute_result"
    },
    {
     "data": {
      "image/png": "[encoded data removed]",
      "text/plain": [
       "<Figure size 720x216 with 1 Axes>"
      ]
     },
     "metadata": {
      "needs_background": "light"
     },
     "output_type": "display_data"
    }
   ],
   "source": [
    "#freuquency vector\n",
    "f = np.arange(0,fs,1) #frquency range\n",
    "s = 1j *np.pi * 2 * f\n",
    "# Analog Filter\n",
    "Ha = 1 / (1 + s / omc) \n",
    "\n",
    "#bilinear transform without pre-wraping\n",
    "Om, Hd = sig.freqz(b, a, worN=48000)\n",
    "#Compute the frequency response of a digital filter., worN musste genutzt werden, weil fs-argument komischerweise nicht erkannt wurde\n",
    "#compute z-vector\n",
    "#       #z⁻2\n",
    "#Om = 2 * np.arctan(np.pi * f / fs)\n",
    "#z = np.asarray([np.e**(1j *2*Om), np.e**(1j * Om), 1])\n",
    "#Hd = np.sum(b*z) / np.sum(a*z)\n",
    "\n",
    "\n",
    "#bilinear transform with pre-wraping\n",
    "Om_w, Hd_wrapped = sig.freqz(b_wrapped, a_wrapped, worN=48000)\n",
    "\n",
    "#Plot Magnitude\n",
    "plt.figure(figsize=(10,3))\n",
    "plt.semilogx(f, 20*np.log10(np.abs(Ha)), label=r'analogue prototype')\n",
    "plt.semilogx(f, 20*np.log10(np.abs(Hd)), label=r'bilinear transform without pre-wrapin')\n",
    "#plt.semilogx(f, 20*np.log10(np.abs(Hd_wrapped)), label=r'bilinear transform with pre-wrapin')\n",
    "plt.xlabel(r'$f$ in Hz')\n",
    "plt.ylabel(r'magnitude A / dB')\n",
    "plt.grid()\n",
    "plt.title(r'Lowpass 1st order, $f_{cut-off} = 10 kHz$ @ $f_s = 48 kHz$')\n",
    "plt.legend()\n",
    "#plt.axis([10, fs, -16, 4])"
   ]
  },
  {
   "cell_type": "code",
   "execution_count": 150,
   "metadata": {},
   "outputs": [
    {
     "data": {
      "text/plain": [
       "[10, 48000, -180, 180]"
      ]
     },
     "execution_count": 150,
     "metadata": {},
     "output_type": "execute_result"
    },
    {
     "data": {
      "image/png": "[encoded data removed]",
      "text/plain": [
       "<Figure size 720x216 with 1 Axes>"
      ]
     },
     "metadata": {
      "needs_background": "light"
     },
     "output_type": "display_data"
    }
   ],
   "source": [
    "#Plot Angle\n",
    "plt.figure(figsize=(10,3))\n",
    "plt.semilogx(f, (180 / np.pi) * np.angle(Ha), label=r'analogue prototype')\n",
    "plt.semilogx(f, (180 / np.pi) * np.angle(Hd), label=r'bilinear transform without pre-wrapin')\n",
    "plt.semilogx(f, (180 / np.pi) * np.angle(Hd_wrapped), label=r'bilinear transform with pre-wrapin')\n",
    "plt.xlabel(r'$f$ / Hz')\n",
    "plt.ylabel(r'phase / deg')\n",
    "plt.grid()\n",
    "#plt.title(r'Lowpass 1st order, $f_{cut-off} = 10 kHz$ @ $f_s = 48 kHz$')\n",
    "plt.axis([10, fs, -180, 180])"
   ]
  },
  {
   "cell_type": "code",
   "execution_count": null,
   "metadata": {},
   "outputs": [],
   "source": []
  }
 ],
 "metadata": {
  "kernelspec": {
   "display_name": "Python 3",
   "language": "python",
   "name": "python3"
  },
  "language_info": {
   "codemirror_mode": {
    "name": "ipython",
    "version": 3
   },
   "file_extension": ".py",
   "mimetype": "text/x-python",
   "name": "python",
   "nbconvert_exporter": "python",
   "pygments_lexer": "ipython3",
   "version": "3.7.0"
  }
 },
 "nbformat": 4,
 "nbformat_minor": 2
}
